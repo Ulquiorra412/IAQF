{
 "cells": [
  {
   "cell_type": "code",
   "execution_count": 1,
   "id": "2311f102",
   "metadata": {},
   "outputs": [],
   "source": [
    "import warnings\n",
    "warnings.filterwarnings('ignore')\n",
    "\n",
    "from IPython.core.interactiveshell import InteractiveShell\n",
    "InteractiveShell.ast_node_interactiveity = 'all'\n",
    "\n",
    "import numpy as np\n",
    "import pandas as pd\n",
    "import torch\n",
    "import yfinance as yf\n",
    "from scipy.fftpack import fft, ifft, fftfreq\n",
    "\n",
    "from matplotlib import cm, pyplot as plt\n",
    "from matplotlib.dates import YearLocator, MonthLocator\n",
    "import seaborn; seaborn.set()"
   ]
  },
  {
   "cell_type": "code",
   "execution_count": 2,
   "id": "5810cbf3",
   "metadata": {},
   "outputs": [
    {
     "name": "stdout",
     "output_type": "stream",
     "text": [
      "[*********************100%***********************]  1 of 1 completed\n"
     ]
    },
    {
     "data": {
      "text/html": [
       "<div>\n",
       "<style scoped>\n",
       "    .dataframe tbody tr th:only-of-type {\n",
       "        vertical-align: middle;\n",
       "    }\n",
       "\n",
       "    .dataframe tbody tr th {\n",
       "        vertical-align: top;\n",
       "    }\n",
       "\n",
       "    .dataframe thead th {\n",
       "        text-align: right;\n",
       "    }\n",
       "</style>\n",
       "<table border=\"1\" class=\"dataframe\">\n",
       "  <thead>\n",
       "    <tr style=\"text-align: right;\">\n",
       "      <th></th>\n",
       "      <th>Open</th>\n",
       "      <th>High</th>\n",
       "      <th>Low</th>\n",
       "      <th>Close</th>\n",
       "      <th>Adj Close</th>\n",
       "      <th>Volume</th>\n",
       "    </tr>\n",
       "    <tr>\n",
       "      <th>Date</th>\n",
       "      <th></th>\n",
       "      <th></th>\n",
       "      <th></th>\n",
       "      <th></th>\n",
       "      <th></th>\n",
       "      <th></th>\n",
       "    </tr>\n",
       "  </thead>\n",
       "  <tbody>\n",
       "    <tr>\n",
       "      <th>1987-09-10</th>\n",
       "      <td>178.960007</td>\n",
       "      <td>178.960007</td>\n",
       "      <td>177.050003</td>\n",
       "      <td>178.830002</td>\n",
       "      <td>178.830002</td>\n",
       "      <td>0</td>\n",
       "    </tr>\n",
       "    <tr>\n",
       "      <th>1987-09-11</th>\n",
       "      <td>178.830002</td>\n",
       "      <td>181.470001</td>\n",
       "      <td>178.830002</td>\n",
       "      <td>181.339996</td>\n",
       "      <td>181.339996</td>\n",
       "      <td>0</td>\n",
       "    </tr>\n",
       "    <tr>\n",
       "      <th>1987-09-14</th>\n",
       "      <td>181.339996</td>\n",
       "      <td>182.250000</td>\n",
       "      <td>180.750000</td>\n",
       "      <td>181.789993</td>\n",
       "      <td>181.789993</td>\n",
       "      <td>0</td>\n",
       "    </tr>\n",
       "    <tr>\n",
       "      <th>1987-09-15</th>\n",
       "      <td>181.789993</td>\n",
       "      <td>181.789993</td>\n",
       "      <td>179.259995</td>\n",
       "      <td>179.270004</td>\n",
       "      <td>179.270004</td>\n",
       "      <td>0</td>\n",
       "    </tr>\n",
       "    <tr>\n",
       "      <th>1987-09-16</th>\n",
       "      <td>179.270004</td>\n",
       "      <td>180.630005</td>\n",
       "      <td>177.860001</td>\n",
       "      <td>177.889999</td>\n",
       "      <td>177.889999</td>\n",
       "      <td>0</td>\n",
       "    </tr>\n",
       "    <tr>\n",
       "      <th>...</th>\n",
       "      <td>...</td>\n",
       "      <td>...</td>\n",
       "      <td>...</td>\n",
       "      <td>...</td>\n",
       "      <td>...</td>\n",
       "      <td>...</td>\n",
       "    </tr>\n",
       "    <tr>\n",
       "      <th>2022-01-19</th>\n",
       "      <td>2661.010010</td>\n",
       "      <td>2680.550049</td>\n",
       "      <td>2632.719971</td>\n",
       "      <td>2633.860107</td>\n",
       "      <td>2633.860107</td>\n",
       "      <td>0</td>\n",
       "    </tr>\n",
       "    <tr>\n",
       "      <th>2022-01-20</th>\n",
       "      <td>2634.459961</td>\n",
       "      <td>2676.949951</td>\n",
       "      <td>2600.489990</td>\n",
       "      <td>2603.060059</td>\n",
       "      <td>2603.060059</td>\n",
       "      <td>0</td>\n",
       "    </tr>\n",
       "    <tr>\n",
       "      <th>2022-01-21</th>\n",
       "      <td>2602.810059</td>\n",
       "      <td>2610.260010</td>\n",
       "      <td>2551.820068</td>\n",
       "      <td>2552.540039</td>\n",
       "      <td>2552.540039</td>\n",
       "      <td>0</td>\n",
       "    </tr>\n",
       "    <tr>\n",
       "      <th>2022-01-24</th>\n",
       "      <td>2551.000000</td>\n",
       "      <td>2569.959961</td>\n",
       "      <td>2452.550049</td>\n",
       "      <td>2565.949951</td>\n",
       "      <td>2565.949951</td>\n",
       "      <td>0</td>\n",
       "    </tr>\n",
       "    <tr>\n",
       "      <th>2022-01-25</th>\n",
       "      <td>2563.280029</td>\n",
       "      <td>2563.280029</td>\n",
       "      <td>2493.127930</td>\n",
       "      <td>2547.738037</td>\n",
       "      <td>2547.738037</td>\n",
       "      <td>0</td>\n",
       "    </tr>\n",
       "  </tbody>\n",
       "</table>\n",
       "<p>8635 rows × 6 columns</p>\n",
       "</div>"
      ],
      "text/plain": [
       "                   Open         High          Low        Close    Adj Close  \\\n",
       "Date                                                                          \n",
       "1987-09-10   178.960007   178.960007   177.050003   178.830002   178.830002   \n",
       "1987-09-11   178.830002   181.470001   178.830002   181.339996   181.339996   \n",
       "1987-09-14   181.339996   182.250000   180.750000   181.789993   181.789993   \n",
       "1987-09-15   181.789993   181.789993   179.259995   179.270004   179.270004   \n",
       "1987-09-16   179.270004   180.630005   177.860001   177.889999   177.889999   \n",
       "...                 ...          ...          ...          ...          ...   \n",
       "2022-01-19  2661.010010  2680.550049  2632.719971  2633.860107  2633.860107   \n",
       "2022-01-20  2634.459961  2676.949951  2600.489990  2603.060059  2603.060059   \n",
       "2022-01-21  2602.810059  2610.260010  2551.820068  2552.540039  2552.540039   \n",
       "2022-01-24  2551.000000  2569.959961  2452.550049  2565.949951  2565.949951   \n",
       "2022-01-25  2563.280029  2563.280029  2493.127930  2547.738037  2547.738037   \n",
       "\n",
       "            Volume  \n",
       "Date                \n",
       "1987-09-10       0  \n",
       "1987-09-11       0  \n",
       "1987-09-14       0  \n",
       "1987-09-15       0  \n",
       "1987-09-16       0  \n",
       "...            ...  \n",
       "2022-01-19       0  \n",
       "2022-01-20       0  \n",
       "2022-01-21       0  \n",
       "2022-01-24       0  \n",
       "2022-01-25       0  \n",
       "\n",
       "[8635 rows x 6 columns]"
      ]
     },
     "execution_count": 2,
     "metadata": {},
     "output_type": "execute_result"
    }
   ],
   "source": [
    "russell = yf.download(\"^RUA\")\n",
    "russell"
   ]
  },
  {
   "cell_type": "code",
   "execution_count": 3,
   "id": "23a984a1",
   "metadata": {},
   "outputs": [
    {
     "data": {
      "text/plain": [
       "[<matplotlib.lines.Line2D at 0x7fcfe814bb20>]"
      ]
     },
     "execution_count": 3,
     "metadata": {},
     "output_type": "execute_result"
    },
    {
     "data": {
      "image/png": "[encoded data removed]",
      "text/plain": [
       "<Figure size 432x288 with 1 Axes>"
      ]
     },
     "metadata": {},
     "output_type": "display_data"
    }
   ],
   "source": [
    "price = russell[['Adj Close']]\n",
    "plt.plot(price)"
   ]
  },
  {
   "cell_type": "code",
   "execution_count": 4,
   "id": "63bd18e2",
   "metadata": {},
   "outputs": [
    {
     "data": {
      "text/html": [
       "<div>\n",
       "<style scoped>\n",
       "    .dataframe tbody tr th:only-of-type {\n",
       "        vertical-align: middle;\n",
       "    }\n",
       "\n",
       "    .dataframe tbody tr th {\n",
       "        vertical-align: top;\n",
       "    }\n",
       "\n",
       "    .dataframe thead th {\n",
       "        text-align: right;\n",
       "    }\n",
       "</style>\n",
       "<table border=\"1\" class=\"dataframe\">\n",
       "  <thead>\n",
       "    <tr style=\"text-align: right;\">\n",
       "      <th></th>\n",
       "      <th>ret</th>\n",
       "    </tr>\n",
       "    <tr>\n",
       "      <th>Date</th>\n",
       "      <th></th>\n",
       "    </tr>\n",
       "  </thead>\n",
       "  <tbody>\n",
       "    <tr>\n",
       "      <th>1988-09-30</th>\n",
       "      <td>-0.243367</td>\n",
       "    </tr>\n",
       "    <tr>\n",
       "      <th>1988-10-31</th>\n",
       "      <td>0.026833</td>\n",
       "    </tr>\n",
       "    <tr>\n",
       "      <th>1988-11-30</th>\n",
       "      <td>0.096877</td>\n",
       "    </tr>\n",
       "    <tr>\n",
       "      <th>1988-12-31</th>\n",
       "      <td>0.036213</td>\n",
       "    </tr>\n",
       "    <tr>\n",
       "      <th>1989-01-31</th>\n",
       "      <td>0.061823</td>\n",
       "    </tr>\n",
       "    <tr>\n",
       "      <th>...</th>\n",
       "      <td>...</td>\n",
       "    </tr>\n",
       "    <tr>\n",
       "      <th>2021-09-30</th>\n",
       "      <td>0.198881</td>\n",
       "    </tr>\n",
       "    <tr>\n",
       "      <th>2021-10-31</th>\n",
       "      <td>0.317748</td>\n",
       "    </tr>\n",
       "    <tr>\n",
       "      <th>2021-11-30</th>\n",
       "      <td>0.144870</td>\n",
       "    </tr>\n",
       "    <tr>\n",
       "      <th>2021-12-31</th>\n",
       "      <td>0.138303</td>\n",
       "    </tr>\n",
       "    <tr>\n",
       "      <th>2022-01-31</th>\n",
       "      <td>0.037499</td>\n",
       "    </tr>\n",
       "  </tbody>\n",
       "</table>\n",
       "<p>401 rows × 1 columns</p>\n",
       "</div>"
      ],
      "text/plain": [
       "                 ret\n",
       "Date                \n",
       "1988-09-30 -0.243367\n",
       "1988-10-31  0.026833\n",
       "1988-11-30  0.096877\n",
       "1988-12-31  0.036213\n",
       "1989-01-31  0.061823\n",
       "...              ...\n",
       "2021-09-30  0.198881\n",
       "2021-10-31  0.317748\n",
       "2021-11-30  0.144870\n",
       "2021-12-31  0.138303\n",
       "2022-01-31  0.037499\n",
       "\n",
       "[401 rows x 1 columns]"
      ]
     },
     "execution_count": 4,
     "metadata": {},
     "output_type": "execute_result"
    },
    {
     "data": {
      "image/png": "[encoded data removed]",
      "text/plain": [
       "<Figure size 432x288 with 1 Axes>"
      ]
     },
     "metadata": {},
     "output_type": "display_data"
    }
   ],
   "source": [
    "price.index = pd.to_datetime(price.index)\n",
    "price = price.resample('M').last()\n",
    "ret_12 = (price / price.shift(12) - 1).dropna()\n",
    "ret_12.columns = ['ret']\n",
    "ret_12 = ret_12 - ret_12.mean()\n",
    "\n",
    "plt.plot(ret_12)\n",
    "ret_12"
   ]
  },
  {
   "cell_type": "code",
   "execution_count": 5,
   "id": "18caccee",
   "metadata": {},
   "outputs": [
    {
     "data": {
      "image/png": "[encoded data removed]",
      "text/plain": [
       "<Figure size 432x288 with 1 Axes>"
      ]
     },
     "metadata": {},
     "output_type": "display_data"
    }
   ],
   "source": [
    "# 数据长度\n",
    "N = len(ret_12)\n",
    "# 采样频率\n",
    "fs = 1\n",
    "\n",
    "x = np.array(ret_12.index)\n",
    "y = np.array(ret_12['ret'])\n",
    "y_f = fft(y)\n",
    "# x_f = np.linspace(0.0, 1.0 / (2.0 * T), N // 2)\n",
    "x_f = fftfreq(N, 1 / fs)[:N // 2]\n",
    "\n",
    "plt.plot(x_f, 2.0 / N * np.abs(y_f[: N // 2]))\n",
    "plt.show()\n",
    "df = pd.DataFrame(2.0 / N * np.abs(y_f[: N // 2]), columns=['A'], index=x_f)\n",
    "df\n",
    "df['T'] = 1 / df.index"
   ]
  },
  {
   "cell_type": "code",
   "execution_count": 6,
   "id": "e2b29820",
   "metadata": {},
   "outputs": [
    {
     "data": {
      "text/html": [
       "<div>\n",
       "<style scoped>\n",
       "    .dataframe tbody tr th:only-of-type {\n",
       "        vertical-align: middle;\n",
       "    }\n",
       "\n",
       "    .dataframe tbody tr th {\n",
       "        vertical-align: top;\n",
       "    }\n",
       "\n",
       "    .dataframe thead th {\n",
       "        text-align: right;\n",
       "    }\n",
       "</style>\n",
       "<table border=\"1\" class=\"dataframe\">\n",
       "  <thead>\n",
       "    <tr style=\"text-align: right;\">\n",
       "      <th></th>\n",
       "      <th>A</th>\n",
       "      <th>T</th>\n",
       "    </tr>\n",
       "  </thead>\n",
       "  <tbody>\n",
       "    <tr>\n",
       "      <th>0.009975</th>\n",
       "      <td>0.093902</td>\n",
       "      <td>100.250000</td>\n",
       "    </tr>\n",
       "    <tr>\n",
       "      <th>0.022444</th>\n",
       "      <td>0.081311</td>\n",
       "      <td>44.555556</td>\n",
       "    </tr>\n",
       "    <tr>\n",
       "      <th>0.024938</th>\n",
       "      <td>0.062255</td>\n",
       "      <td>40.100000</td>\n",
       "    </tr>\n",
       "    <tr>\n",
       "      <th>0.012469</th>\n",
       "      <td>0.062132</td>\n",
       "      <td>80.200000</td>\n",
       "    </tr>\n",
       "    <tr>\n",
       "      <th>0.002494</th>\n",
       "      <td>0.060482</td>\n",
       "      <td>401.000000</td>\n",
       "    </tr>\n",
       "    <tr>\n",
       "      <th>0.042394</th>\n",
       "      <td>0.055412</td>\n",
       "      <td>23.588235</td>\n",
       "    </tr>\n",
       "    <tr>\n",
       "      <th>0.039900</th>\n",
       "      <td>0.049571</td>\n",
       "      <td>25.062500</td>\n",
       "    </tr>\n",
       "    <tr>\n",
       "      <th>0.014963</th>\n",
       "      <td>0.042969</td>\n",
       "      <td>66.833333</td>\n",
       "    </tr>\n",
       "    <tr>\n",
       "      <th>0.027431</th>\n",
       "      <td>0.039092</td>\n",
       "      <td>36.454545</td>\n",
       "    </tr>\n",
       "    <tr>\n",
       "      <th>0.004988</th>\n",
       "      <td>0.036879</td>\n",
       "      <td>200.500000</td>\n",
       "    </tr>\n",
       "  </tbody>\n",
       "</table>\n",
       "</div>"
      ],
      "text/plain": [
       "                 A           T\n",
       "0.009975  0.093902  100.250000\n",
       "0.022444  0.081311   44.555556\n",
       "0.024938  0.062255   40.100000\n",
       "0.012469  0.062132   80.200000\n",
       "0.002494  0.060482  401.000000\n",
       "0.042394  0.055412   23.588235\n",
       "0.039900  0.049571   25.062500\n",
       "0.014963  0.042969   66.833333\n",
       "0.027431  0.039092   36.454545\n",
       "0.004988  0.036879  200.500000"
      ]
     },
     "execution_count": 6,
     "metadata": {},
     "output_type": "execute_result"
    }
   ],
   "source": [
    "df_sorted = df.sort_values(\"A\", ascending=False)\n",
    "df_sorted.head(10)"
   ]
  },
  {
   "cell_type": "code",
   "execution_count": 7,
   "id": "48c8a256",
   "metadata": {},
   "outputs": [],
   "source": [
    "df.set_index(\"T\", inplace=True)"
   ]
  },
  {
   "cell_type": "code",
   "execution_count": 8,
   "id": "9c51412f",
   "metadata": {},
   "outputs": [
    {
     "data": {
      "text/plain": [
       "[<matplotlib.lines.Line2D at 0x7fcfe826d040>]"
      ]
     },
     "execution_count": 8,
     "metadata": {},
     "output_type": "execute_result"
    },
    {
     "data": {
      "image/png": "[encoded data removed]",
      "text/plain": [
       "<Figure size 432x288 with 1 Axes>"
      ]
     },
     "metadata": {},
     "output_type": "display_data"
    }
   ],
   "source": [
    "plt.plot(df)"
   ]
  },
  {
   "cell_type": "code",
   "execution_count": 14,
   "id": "3c30680a",
   "metadata": {},
   "outputs": [],
   "source": [
    "df = df.iloc[:0:-1]"
   ]
  },
  {
   "cell_type": "code",
   "execution_count": 16,
   "id": "a4af7d13",
   "metadata": {},
   "outputs": [
    {
     "data": {
      "text/plain": [
       "[<matplotlib.lines.Line2D at 0x7fcfe82cb070>]"
      ]
     },
     "execution_count": 16,
     "metadata": {},
     "output_type": "execute_result"
    },
    {
     "data": {
      "image/png": "[encoded data removed]",
      "text/plain": [
       "<Figure size 432x288 with 1 Axes>"
      ]
     },
     "metadata": {},
     "output_type": "display_data"
    }
   ],
   "source": [
    "from scipy.interpolate import make_interp_spline\n",
    "\n",
    "x = np.array(df.index)\n",
    "y = np.array(df['A'])\n",
    "x_smooth = np.linspace(x.min(), x.max(), 1000) #300 represents number of points to make between T.min and T.max\n",
    "y_smooth = make_interp_spline(x, y)(x_smooth)\n",
    "plt.plot(x_smooth, y_smooth)"
   ]
  },
  {
   "cell_type": "code",
   "execution_count": null,
   "id": "4e3d46be",
   "metadata": {},
   "outputs": [],
   "source": []
  }
 ],
 "metadata": {
  "kernelspec": {
   "display_name": "Python 3 (ipykernel)",
   "language": "python",
   "name": "python3"
  },
  "language_info": {
   "codemirror_mode": {
    "name": "ipython",
    "version": 3
   },
   "file_extension": ".py",
   "mimetype": "text/x-python",
   "name": "python",
   "nbconvert_exporter": "python",
   "pygments_lexer": "ipython3",
   "version": "3.9.7"
  },
  "toc": {
   "base_numbering": 1,
   "nav_menu": {},
   "number_sections": true,
   "sideBar": true,
   "skip_h1_title": false,
   "title_cell": "Table of Contents",
   "title_sidebar": "Contents",
   "toc_cell": false,
   "toc_position": {},
   "toc_section_display": true,
   "toc_window_display": false
  }
 },
 "nbformat": 4,
 "nbformat_minor": 5
}
